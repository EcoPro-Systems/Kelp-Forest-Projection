{
 "cells": [
  {
   "cell_type": "code",
   "execution_count": 1,
   "id": "229a5783-d4a5-4396-b77d-6bea603e73ee",
   "metadata": {},
   "outputs": [
    {
     "name": "stdout",
     "output_type": "stream",
     "text": [
      "Saved plot to Data/kelp_metrics_27_37_histogram_kelp.png\n"
     ]
    }
   ],
   "source": [
    "import matplotlib.pyplot as plt\n",
    "import numpy as np\n",
    "import joblib\n",
    "\n",
    "# create histogram of kelp area change for each season\n",
    "def histogram_kelp(kelp_metrics):\n",
    "    # seasonal derivatives\n",
    "    season_names = {\n",
    "        1:'Winter -> Spring', # 3\n",
    "        2:'Spring -> Summer', # 6\n",
    "        3:'Summer -> Fall',   # 9\n",
    "        4:'Fall -> Winter'    # 12\n",
    "    }\n",
    "\n",
    "    # find lat limits\n",
    "    lower = np.min(kelp_metrics['lat'])\n",
    "    upper = np.max(kelp_metrics['lat'])\n",
    "\n",
    "    # find seasons for numpy.datetime64 type\n",
    "    seasons = np.array([season_names[(t.astype('datetime64[M]').astype(int)%12)//3+1] for t in kelp_metrics['dtime']])\n",
    "\n",
    "    fig, ax = plt.subplots(2,2, figsize=(8,8))\n",
    "    fig.suptitle(f\"Change in Kelp Area by Season between ({lower:.1f} - {upper:.1f}N)\")\n",
    "    ax = ax.flatten()\n",
    "\n",
    "    # create dict for saving\n",
    "    kelp_histogram = {}\n",
    "\n",
    "    for i, season in enumerate(season_names.values()):\n",
    "        mask = seasons == season\n",
    "        mean = np.mean(kelp_metrics['dkelp'][mask])\n",
    "        std = np.std(kelp_metrics['dkelp'][mask])\n",
    "        ax[i].hist(kelp_metrics['dkelp'][mask], bins=np.linspace(-500,500,50), label=f\"Mean: {mean:.1f}\\nStd: {std:.1f}\")\n",
    "        ax[i].set_title(season)\n",
    "        ax[i].set_xlabel(r'Change in Kelp Area ($m^2$)')\n",
    "        ax[i].set_yticks([])\n",
    "        ax[i].legend(loc='best')\n",
    "        ax[i].grid(True, ls='--', alpha=0.5)\n",
    "\n",
    "        # save data to dict\n",
    "        kelp_histogram[season] = kelp_metrics['dkelp'][mask]\n",
    "    \n",
    "    plt.tight_layout()\n",
    "    return fig, ax, kelp_histogram"
   ]
  },
  {
   "cell_type": "code",
   "execution_count": null,
   "id": "322effdb-3949-49d2-82db-8e375f12f290",
   "metadata": {},
   "outputs": [],
   "source": [
    "file_path = \"Data/kelp_metrics_27_37.pkl\"\n",
    "\n",
    "# load data from disk\n",
    "with open(file_path, 'rb') as f:\n",
    "    data = joblib.load(f)\n",
    "\n",
    "# plot time series\n",
    "fig, ax, kdata = histogram_kelp(data)\n",
    "plt.savefig(file_path.replace('.pkl', '_histogram_kelp.png'))\n",
    "print(f\"Saved plot to {file_path.replace('.pkl', '_histogram_kelp.png')}\")\n",
    "plt.close()\n",
    "\n",
    "# save data to pickle file\n",
    "with open(file_path.replace('.pkl', '_histogram_kelp.pkl'), 'wb') as f:\n",
    "    joblib.dump(kdata, f)"
   ]
  }
 ],
 "metadata": {
  "kernelspec": {
   "display_name": "Python 3 (ipykernel)",
   "language": "python",
   "name": "python3"
  },
  "language_info": {
   "codemirror_mode": {
    "name": "ipython",
    "version": 3
   },
   "file_extension": ".py",
   "mimetype": "text/x-python",
   "name": "python",
   "nbconvert_exporter": "python",
   "pygments_lexer": "ipython3",
   "version": "3.11.9"
  }
 },
 "nbformat": 4,
 "nbformat_minor": 5
}
