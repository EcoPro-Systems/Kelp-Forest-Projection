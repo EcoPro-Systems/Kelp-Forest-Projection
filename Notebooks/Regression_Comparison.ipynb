{
 "cells": [
  {
   "cell_type": "code",
   "execution_count": 1,
   "id": "2ac5c756-27df-4475-974a-1b8377e92bb3",
   "metadata": {
    "scrolled": true
   },
   "outputs": [
    {
     "name": "stderr",
     "output_type": "stream",
     "text": [
      "100%|██████████| 3514/3514 [00:35<00:00, 99.03it/s]\n"
     ]
    },
    {
     "name": "stdout",
     "output_type": "stream",
     "text": [
      "Data/kelp_metrics_27_37.pkl saved\n",
      "dict_keys(['dkelp', 'dkelp_kelp', 'dtemp', 'dtemp_temp', 'dtemp_temp_lag', 'dtemp_temp_lag2', 'kelp', 'temp', 'temp_lag', 'temp_lag2', 'sunlight', 'time', 'dtime', 'lat', 'lon', 'dlat', 'dlon', 'elevation', 'delevation', 'temp_char', 'average_temp', 'slope_dkelp_temp_char', 'slope_dkelp_temp_char_err'])\n"
     ]
    }
   ],
   "source": [
    "from kelp_metrics import main as extract_metrics\n",
    "\n",
    "kelp_data = extract_metrics(lower_lat=27, upper_lat=37)"
   ]
  },
  {
   "cell_type": "code",
   "execution_count": 19,
   "id": "a85fa8ca-c176-4495-9b6f-38ee598fc7eb",
   "metadata": {},
   "outputs": [],
   "source": [
    "import numpy as np\n",
    "\n",
    "features = {\n",
    "    # name : variable\n",
    "    'Temperature [C]': kelp_data['temp'] - 273.15,\n",
    "    '1Q Lag Temperature [C]': kelp_data['temp_lag'] - 273.15,\n",
    "    '2Q Lag Temperature [C]': kelp_data['temp_lag2'] - 273.15,\n",
    "    #'Longitude [deg]': kelp_data['lon'], \n",
    "    #'Latitude [deg]': kelp_data['lat'],\n",
    "    #'time': kelp_data['time'],\n",
    "}\n",
    "\n",
    "# make arrays\n",
    "X = np.array([features[k] for k in features]).T\n",
    "y = kelp_data['kelp']\n",
    "t = kelp_data['time']\n",
    "\n",
    "# Remove nans from lagged values\n",
    "nanmask = np.isnan(features['1Q Lag Temperature [C]']) #| np.isnan(features['2Q Lag Temperature [C]'])\n",
    "X = X[~nanmask]\n",
    "y = y[~nanmask]\n",
    "t = t[~nanmask]"
   ]
  },
  {
   "cell_type": "markdown",
   "id": "7b6e8e30-efac-435d-937e-9077690074ad",
   "metadata": {},
   "source": [
    "Parameters are from `Regression_Quick.ipynb`"
   ]
  },
  {
   "cell_type": "code",
   "execution_count": 12,
   "id": "f7e11b37-fa95-4f3c-ab70-a19f9a289ca4",
   "metadata": {},
   "outputs": [
    {
     "name": "stdout",
     "output_type": "stream",
     "text": [
      "Avg. Absolute Error Train: 59.334 m^2\n"
     ]
    }
   ],
   "source": [
    "params = np.array([169.32526493,  -6.80988015])\n",
    "\n",
    "Xc = np.column_stack(( np.ones(len(X)), X ))\n",
    "\n",
    "y_pred = np.dot( Xc, params)\n",
    "\n",
    "pred_error = np.abs(y - y_pred).mean()\n",
    "print(f\"Avg. Absolute Error Train: {pred_error:.3f} m^2\")"
   ]
  },
  {
   "cell_type": "code",
   "execution_count": null,
   "id": "db56ac09-5de1-414d-b280-e5b9420d3c71",
   "metadata": {},
   "outputs": [],
   "source": [
    "# Hancheng's parameters, TODO\n",
    "\n",
    "params = np.array([169.32526493,  -6.80988015])\n",
    "\n",
    "Xc = np.column_stack(( np.ones(len(X)), X ))\n",
    "\n",
    "y_pred = np.dot( Xc, params)\n",
    "\n",
    "pred_error = np.abs(y - y_pred).mean()\n",
    "print(f\"Avg. Absolute Error Train: {pred_error:.3f} m^2\")"
   ]
  },
  {
   "cell_type": "markdown",
   "id": "d0763de6-02d4-4cdc-a844-d0db6ffe4839",
   "metadata": {},
   "source": [
    "Make plot comparing outputs"
   ]
  },
  {
   "cell_type": "code",
   "execution_count": 18,
   "id": "05778e96-9fd2-434e-9144-bc81436ebb3e",
   "metadata": {},
   "outputs": [
    {
     "name": "stdout",
     "output_type": "stream",
     "text": [
      "date : N_measurements : Avg. Abs. Error\n",
      "2002-11-15 : 1218 : 40.86\n",
      "2003-02-15 : 793 : 48.55\n",
      "2003-05-15 : 868 : 58.18\n",
      "2003-08-15 : 1014 : 87.7\n",
      "2003-11-15 : 1312 : 43.57\n",
      "2004-02-15 : 1233 : 51.32\n",
      "2004-05-15 : 1052 : 74.97\n",
      "2004-08-15 : 1137 : 92.68\n",
      "2004-11-15 : 1234 : 35.36\n",
      "2005-02-15 : 1189 : 49.65\n",
      "2005-05-15 : 1156 : 75.17\n",
      "2005-08-15 : 1157 : 106.4\n",
      "2005-11-15 : 1190 : 45.6\n",
      "2006-02-15 : 799 : 49.76\n",
      "2006-05-15 : 805 : 63.49\n",
      "2006-08-15 : 636 : 59.17\n",
      "2006-11-15 : 1061 : 32.7\n",
      "2007-02-15 : 1023 : 43.03\n",
      "2007-05-15 : 985 : 79.66\n",
      "2007-08-15 : 1170 : 79.26\n",
      "2007-11-15 : 1102 : 46.29\n",
      "2008-02-15 : 943 : 60.61\n",
      "2008-05-15 : 1074 : 74.27\n",
      "2008-08-15 : 1039 : 85.75\n",
      "2008-11-15 : 1216 : 42.84\n",
      "2009-02-15 : 1387 : 48.28\n",
      "2009-05-15 : 1120 : 79.55\n",
      "2009-08-15 : 1235 : 77.32\n",
      "2009-11-15 : 1092 : 32.97\n",
      "2010-02-15 : 856 : 43.62\n",
      "2010-05-15 : 903 : 59.89\n",
      "2010-08-15 : 1170 : 74.42\n",
      "2010-11-15 : 1502 : 49.09\n",
      "2011-02-15 : 1133 : 58.86\n",
      "2011-05-15 : 949 : 77.81\n",
      "2011-08-15 : 857 : 65.31\n",
      "2011-11-15 : 1284 : 47.43\n",
      "2012-02-15 : 748 : 66.19\n",
      "2012-05-15 : 455 : 71.93\n",
      "2012-08-15 : 527 : 60.52\n",
      "2012-11-15 : 726 : 31.57\n",
      "2013-02-15 : 775 : 45.99\n",
      "2013-05-15 : 1093 : 73.71\n",
      "2013-08-15 : 1270 : 71.03\n",
      "2013-11-15 : 1464 : 47.45\n",
      "2014-02-15 : 1171 : 63.89\n",
      "2014-05-15 : 1241 : 94.04\n",
      "2014-08-15 : 1256 : 68.24\n",
      "2014-11-15 : 699 : 30.35\n",
      "2015-02-15 : 625 : 40.04\n",
      "2015-05-15 : 898 : 54.19\n",
      "2015-08-15 : 1086 : 78.76\n",
      "2015-11-15 : 542 : 28.9\n",
      "2016-02-15 : 439 : 44.54\n",
      "2016-05-15 : 680 : 59.91\n",
      "2016-08-15 : 830 : 72.18\n",
      "2016-11-15 : 999 : 32.24\n",
      "2017-02-15 : 772 : 39.86\n",
      "2017-05-15 : 785 : 57.98\n",
      "2017-08-15 : 944 : 63.83\n",
      "2017-11-15 : 908 : 31.23\n",
      "2018-02-15 : 957 : 48.99\n",
      "2018-05-15 : 1064 : 94.44\n",
      "2018-08-15 : 1119 : 86.44\n",
      "2018-11-15 : 766 : 26.91\n",
      "2019-02-15 : 476 : 41.87\n",
      "2019-05-15 : 603 : 79.36\n",
      "2019-08-15 : 1063 : 67.83\n",
      "2019-11-15 : 968 : 35.77\n",
      "2020-02-15 : 875 : 46.89\n",
      "2020-05-15 : 968 : 68.57\n",
      "2020-08-15 : 959 : 61.71\n",
      "2020-11-15 : 812 : 32.55\n"
     ]
    }
   ],
   "source": [
    "unique_times, counts = np.unique(t, return_counts=True)\n",
    "\n",
    "print(f\"date : N_measurements : Avg. Abs. Error\")\n",
    "\n",
    "for i, utime in enumerate(unique_times):\n",
    "    mask = t == utime   \n",
    "    \n",
    "    pred_error = np.abs(y - y_pred)[mask].mean()\n",
    "    \n",
    "    print(str(utime).split(\"T\")[0],':', counts[i], ':', round(pred_error,2))    "
   ]
  }
 ],
 "metadata": {
  "kernelspec": {
   "display_name": "Python 3 (ipykernel)",
   "language": "python",
   "name": "python3"
  },
  "language_info": {
   "codemirror_mode": {
    "name": "ipython",
    "version": 3
   },
   "file_extension": ".py",
   "mimetype": "text/x-python",
   "name": "python",
   "nbconvert_exporter": "python",
   "pygments_lexer": "ipython3",
   "version": "3.11.9"
  }
 },
 "nbformat": 4,
 "nbformat_minor": 5
}
