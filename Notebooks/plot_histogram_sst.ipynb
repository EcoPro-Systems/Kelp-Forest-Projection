{
 "cells": [
  {
   "cell_type": "code",
   "execution_count": 3,
   "id": "6deac69a-48c3-475c-8b06-2de19c25de70",
   "metadata": {},
   "outputs": [
    {
     "name": "stdout",
     "output_type": "stream",
     "text": [
      "Data/kelp_metrics_27_37_histogram_sst.png\n"
     ]
    }
   ],
   "source": [
    "import matplotlib.pyplot as plt\n",
    "import numpy as np\n",
    "import joblib\n",
    "\n",
    "# create histogram of kelp area change for each season\n",
    "def histogram_kelp(kelp_metrics):\n",
    "    # seasonal derivatives\n",
    "    season_names = {\n",
    "        1:'Winter (Jan-Mar)',  # | Q1      | winter        | January – March         | 02-15T00:00:00.00 |\n",
    "        2:'Spring (Apr-Jun)',  # | Q2      | spring        | April – June            | 05-15T00:00:00.00 |\n",
    "        3:'Summer (Jul-Sep)',  # | Q3      | summer        | July – September        | 08-15T00:00:00.00 |\n",
    "        4:'Fall (Oct-Dec)'     # | Q4      | fall          | October – December      | 11-15T00:00:00.00 |\n",
    "    }\n",
    "\n",
    "    # find lat limits\n",
    "    lower = np.min(kelp_metrics['lat'])\n",
    "    upper = np.max(kelp_metrics['lat'])\n",
    "\n",
    "    # find seasons for numpy.datetime64 type\n",
    "    seasons = np.array([season_names[(t.astype('datetime64[M]').astype(int)%12)//3+1] for t in kelp_metrics['time']])\n",
    "\n",
    "    fig, ax = plt.subplots(2,2, figsize=(8,8))\n",
    "    fig.suptitle(f\"Sea Surface Temperature by Season between ({lower:.1f} - {upper:.1f}N)\")\n",
    "    ax = ax.flatten()\n",
    "\n",
    "    # create dict for saving\n",
    "    sst_histogram = {}\n",
    "\n",
    "    for i, season in enumerate(season_names.values()):\n",
    "        mask = seasons == season\n",
    "        mean = np.mean(kelp_metrics['temp'][mask])-273.15\n",
    "        std = np.std(kelp_metrics['temp'][mask])\n",
    "        ax[i].hist(kelp_metrics['temp'][mask]-273.15, bins=np.linspace(10,25,50), label=f\"Mean: {mean:.1f}\\nStd: {std:.1f}\")\n",
    "        ax[i].set_title(season)\n",
    "        ax[i].set_xlabel(r'Temperature ($^\\circ$C)')\n",
    "        ax[i].set_yticks([])\n",
    "        ax[i].legend(loc='best')\n",
    "        ax[i].grid(True, ls='--', alpha=0.5)\n",
    "\n",
    "        # save data to dict\n",
    "        sst_histogram[season] = kelp_metrics['temp'][mask]-273.15\n",
    "    \n",
    "    plt.tight_layout()\n",
    "    return fig, ax, sst_histogram"
   ]
  },
  {
   "cell_type": "code",
   "execution_count": null,
   "id": "8dec7593-e310-4e0d-bbdd-209021b4b46a",
   "metadata": {},
   "outputs": [],
   "source": [
    "# argparse for input filepath\n",
    "file_path=\"Data/kelp_metrics_27_37.pkl\"\n",
    "\n",
    "# load data from disk\n",
    "with open(file_path, 'rb') as f:\n",
    "    data = joblib.load(f)\n",
    "\n",
    "# plot time series\n",
    "fig, ax, hdata = histogram_kelp(data)\n",
    "plt.savefig(file_path.replace('.pkl', '_histogram_sst.png'))\n",
    "print(file_path.replace('.pkl', '_histogram_sst.png'))\n",
    "plt.close()\n",
    "\n",
    "# save data to pickle file\n",
    "with open(file_path.replace('.pkl', '_histogram_sst.pkl'), 'wb') as f:\n",
    "    joblib.dump(hdata, f)"
   ]
  }
 ],
 "metadata": {
  "kernelspec": {
   "display_name": "Python 3 (ipykernel)",
   "language": "python",
   "name": "python3"
  },
  "language_info": {
   "codemirror_mode": {
    "name": "ipython",
    "version": 3
   },
   "file_extension": ".py",
   "mimetype": "text/x-python",
   "name": "python",
   "nbconvert_exporter": "python",
   "pygments_lexer": "ipython3",
   "version": "3.11.9"
  }
 },
 "nbformat": 4,
 "nbformat_minor": 5
}
