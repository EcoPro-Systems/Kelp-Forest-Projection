{
 "cells": [
  {
   "cell_type": "markdown",
   "id": "c88000c6-8793-433e-b4db-d6efe3c372e5",
   "metadata": {},
   "source": [
    "Script to average kelp measurements onto same grid as MUR data"
   ]
  },
  {
   "cell_type": "code",
   "execution_count": 1,
   "id": "f3e42c71-10ae-419e-858b-6907dce97abc",
   "metadata": {},
   "outputs": [],
   "source": [
    "import os\n",
    "import glob\n",
    "import numpy as np\n",
    "import xarray as xr\n",
    "from tqdm import tqdm\n",
    "from scipy.interpolate import interp1d\n",
    "from joblib import dump\n",
    "\n",
    "r_earth = 6371.0 # km\n",
    "\n",
    "kelp_file = \"/home/jovyan/efs/data/KelpForest/LandsatKelpBiomass_2022_Q4_withmetadata.nc\"\n",
    "kelp = xr.open_dataset(kelp_file)\n",
    "\n",
    "mur_dir = \"/home/jovyan/efs/data/MUR\"\n",
    "mur_files = glob.glob(os.path.join(mur_dir, \"*MUR*.nc\"))"
   ]
  },
  {
   "cell_type": "code",
   "execution_count": 2,
   "id": "715f6fc7",
   "metadata": {},
   "outputs": [],
   "source": [
    "def process_location(lat, lon, kelp):\n",
    "    # average kelp area within 0.01 degrees of the lat/lon\n",
    "\n",
    "    location_data = {\n",
    "        'lat': lat,\n",
    "        'long': lon,\n",
    "        'mur_time': [],\n",
    "        'mur_temp': [],\n",
    "        'mur_temp_std': [],\n",
    "        'kelp_area': [], # m^2 per km^2\n",
    "        'kelp_time': kelp.time.values,\n",
    "    }\n",
    "\n",
    "    mask = (kelp.latitude >= lat - 0.005) & (kelp.latitude < lat + 0.005) & \\\n",
    "           (kelp.longitude >= lon - 0.005) & (kelp.longitude < lon + 0.005)\n",
    "\n",
    "    if not kelp.time.values.size:  # Check if 'kelp_time' is empty\n",
    "        return None\n",
    "\n",
    "    if not np.any(mask) or np.all(np.isnan(kelp.area.values[:, mask])):\n",
    "        return None\n",
    "    \n",
    "    # calculate the area of the grid cell adjust for latitude\n",
    "    scale_factor = r_earth * np.pi / 180.0  * np.abs(np.cos(np.deg2rad(lat))) # km per degree\n",
    "    area = (scale_factor * 0.01 * 1000)**2 # meters squared\n",
    "    location_data['kelp_area'] = np.nansum(kelp.area.values[:, mask],axis=1) # total surface area [m^2]\n",
    "    location_data['kelp_area'] = location_data['kelp_area'] / area * 1000**2 # m^2 per km^2\n",
    "\n",
    "    return location_data"
   ]
  },
  {
   "cell_type": "code",
   "execution_count": 3,
   "id": "acb8b679-1e7b-4015-b126-d23db2c3c3c4",
   "metadata": {
    "scrolled": true
   },
   "outputs": [
    {
     "name": "stdout",
     "output_type": "stream",
     "text": [
      "Reading and processing data...\n",
      "Extracting kelp data...\n"
     ]
    },
    {
     "name": "stderr",
     "output_type": "stream",
     "text": [
      " 81%|████████  | 1723/2139 [1:09:52<16:52,  2.43s/it]\n",
      "Exception ignored in: <bound method IPythonKernel._clean_thread_parent_frames of <ipykernel.ipkernel.IPythonKernel object at 0x7fbe10238690>>\n",
      "Traceback (most recent call last):\n",
      "  File \"/srv/conda/envs/notebook/lib/python3.11/site-packages/ipykernel/ipkernel.py\", line 770, in _clean_thread_parent_frames\n",
      "    def _clean_thread_parent_frames(\n",
      "\n",
      "KeyboardInterrupt: \n",
      "Exception ignored in: <bound method IPythonKernel._clean_thread_parent_frames of <ipykernel.ipkernel.IPythonKernel object at 0x7fbe10238690>>\n",
      "Traceback (most recent call last):\n",
      "  File \"/srv/conda/envs/notebook/lib/python3.11/site-packages/ipykernel/ipkernel.py\", line 770, in _clean_thread_parent_frames\n",
      "    def _clean_thread_parent_frames(\n",
      "\n",
      "KeyboardInterrupt: \n"
     ]
    },
    {
     "ename": "KeyboardInterrupt",
     "evalue": "",
     "output_type": "error",
     "traceback": [
      "\u001b[0;31m---------------------------------------------------------------------------\u001b[0m",
      "\u001b[0;31mKeyboardInterrupt\u001b[0m                         Traceback (most recent call last)",
      "Cell \u001b[0;32mIn[3], line 22\u001b[0m\n\u001b[1;32m     20\u001b[0m lat \u001b[38;5;241m=\u001b[39m i[\u001b[38;5;241m1\u001b[39m]\n\u001b[1;32m     21\u001b[0m \u001b[38;5;28;01mfor\u001b[39;00m j,lon \u001b[38;5;129;01min\u001b[39;00m \u001b[38;5;28menumerate\u001b[39m(lon_grid):\n\u001b[0;32m---> 22\u001b[0m     location_data \u001b[38;5;241m=\u001b[39m \u001b[43mprocess_location\u001b[49m\u001b[43m(\u001b[49m\u001b[43mlat\u001b[49m\u001b[43m,\u001b[49m\u001b[43m \u001b[49m\u001b[43mlon\u001b[49m\u001b[43m,\u001b[49m\u001b[43m \u001b[49m\u001b[43mkelp\u001b[49m\u001b[43m)\u001b[49m\n\u001b[1;32m     23\u001b[0m     \u001b[38;5;28;01mif\u001b[39;00m location_data \u001b[38;5;129;01mis\u001b[39;00m \u001b[38;5;129;01mnot\u001b[39;00m \u001b[38;5;28;01mNone\u001b[39;00m:\n\u001b[1;32m     24\u001b[0m         data\u001b[38;5;241m.\u001b[39mappend(location_data)\n",
      "Cell \u001b[0;32mIn[2], line 15\u001b[0m, in \u001b[0;36mprocess_location\u001b[0;34m(lat, lon, kelp)\u001b[0m\n\u001b[1;32m      1\u001b[0m \u001b[38;5;28;01mdef\u001b[39;00m \u001b[38;5;21mprocess_location\u001b[39m(lat, lon, kelp):\n\u001b[1;32m      2\u001b[0m     \u001b[38;5;66;03m# average kelp area within 0.01 degrees of the lat/lon\u001b[39;00m\n\u001b[1;32m      4\u001b[0m     location_data \u001b[38;5;241m=\u001b[39m {\n\u001b[1;32m      5\u001b[0m         \u001b[38;5;124m'\u001b[39m\u001b[38;5;124mlat\u001b[39m\u001b[38;5;124m'\u001b[39m: lat,\n\u001b[1;32m      6\u001b[0m         \u001b[38;5;124m'\u001b[39m\u001b[38;5;124mlong\u001b[39m\u001b[38;5;124m'\u001b[39m: lon,\n\u001b[0;32m   (...)\u001b[0m\n\u001b[1;32m     11\u001b[0m         \u001b[38;5;124m'\u001b[39m\u001b[38;5;124mkelp_time\u001b[39m\u001b[38;5;124m'\u001b[39m: kelp\u001b[38;5;241m.\u001b[39mtime\u001b[38;5;241m.\u001b[39mvalues,\n\u001b[1;32m     12\u001b[0m     }\n\u001b[1;32m     14\u001b[0m     mask \u001b[38;5;241m=\u001b[39m (kelp\u001b[38;5;241m.\u001b[39mlatitude \u001b[38;5;241m>\u001b[39m\u001b[38;5;241m=\u001b[39m lat \u001b[38;5;241m-\u001b[39m \u001b[38;5;241m0.005\u001b[39m) \u001b[38;5;241m&\u001b[39m (kelp\u001b[38;5;241m.\u001b[39mlatitude \u001b[38;5;241m<\u001b[39m lat \u001b[38;5;241m+\u001b[39m \u001b[38;5;241m0.005\u001b[39m) \u001b[38;5;241m&\u001b[39m \\\n\u001b[0;32m---> 15\u001b[0m            (\u001b[43mkelp\u001b[49m\u001b[38;5;241;43m.\u001b[39;49m\u001b[43mlongitude\u001b[49m\u001b[43m \u001b[49m\u001b[38;5;241;43m>\u001b[39;49m\u001b[38;5;241;43m=\u001b[39;49m\u001b[43m \u001b[49m\u001b[43mlon\u001b[49m\u001b[43m \u001b[49m\u001b[38;5;241;43m-\u001b[39;49m\u001b[43m \u001b[49m\u001b[38;5;241;43m0.005\u001b[39;49m) \u001b[38;5;241m&\u001b[39m (kelp\u001b[38;5;241m.\u001b[39mlongitude \u001b[38;5;241m<\u001b[39m lon \u001b[38;5;241m+\u001b[39m \u001b[38;5;241m0.005\u001b[39m)\n\u001b[1;32m     17\u001b[0m     \u001b[38;5;28;01mif\u001b[39;00m \u001b[38;5;129;01mnot\u001b[39;00m kelp\u001b[38;5;241m.\u001b[39mtime\u001b[38;5;241m.\u001b[39mvalues\u001b[38;5;241m.\u001b[39msize:  \u001b[38;5;66;03m# Check if 'kelp_time' is empty\u001b[39;00m\n\u001b[1;32m     18\u001b[0m         \u001b[38;5;28;01mreturn\u001b[39;00m \u001b[38;5;28;01mNone\u001b[39;00m\n",
      "File \u001b[0;32m/srv/conda/envs/notebook/lib/python3.11/site-packages/xarray/core/_typed_ops.py:291\u001b[0m, in \u001b[0;36mDataArrayOpsMixin.__ge__\u001b[0;34m(self, other)\u001b[0m\n\u001b[1;32m    290\u001b[0m \u001b[38;5;28;01mdef\u001b[39;00m \u001b[38;5;21m__ge__\u001b[39m(\u001b[38;5;28mself\u001b[39m, other: DaCompatible) \u001b[38;5;241m-\u001b[39m\u001b[38;5;241m>\u001b[39m Self:\n\u001b[0;32m--> 291\u001b[0m     \u001b[38;5;28;01mreturn\u001b[39;00m \u001b[38;5;28;43mself\u001b[39;49m\u001b[38;5;241;43m.\u001b[39;49m\u001b[43m_binary_op\u001b[49m\u001b[43m(\u001b[49m\u001b[43mother\u001b[49m\u001b[43m,\u001b[49m\u001b[43m \u001b[49m\u001b[43moperator\u001b[49m\u001b[38;5;241;43m.\u001b[39;49m\u001b[43mge\u001b[49m\u001b[43m)\u001b[49m\n",
      "File \u001b[0;32m/srv/conda/envs/notebook/lib/python3.11/site-packages/xarray/core/dataarray.py:4725\u001b[0m, in \u001b[0;36mDataArray._binary_op\u001b[0;34m(self, other, f, reflexive)\u001b[0m\n\u001b[1;32m   4721\u001b[0m other_variable_or_arraylike: DaCompatible \u001b[38;5;241m=\u001b[39m \u001b[38;5;28mgetattr\u001b[39m(other, \u001b[38;5;124m\"\u001b[39m\u001b[38;5;124mvariable\u001b[39m\u001b[38;5;124m\"\u001b[39m, other)\n\u001b[1;32m   4722\u001b[0m other_coords \u001b[38;5;241m=\u001b[39m \u001b[38;5;28mgetattr\u001b[39m(other, \u001b[38;5;124m\"\u001b[39m\u001b[38;5;124mcoords\u001b[39m\u001b[38;5;124m\"\u001b[39m, \u001b[38;5;28;01mNone\u001b[39;00m)\n\u001b[1;32m   4724\u001b[0m variable \u001b[38;5;241m=\u001b[39m (\n\u001b[0;32m-> 4725\u001b[0m     f(\u001b[38;5;28mself\u001b[39m\u001b[38;5;241m.\u001b[39mvariable, other_variable_or_arraylike)\n\u001b[1;32m   4726\u001b[0m     \u001b[38;5;28;01mif\u001b[39;00m \u001b[38;5;129;01mnot\u001b[39;00m reflexive\n\u001b[1;32m   4727\u001b[0m     \u001b[38;5;28;01melse\u001b[39;00m f(other_variable_or_arraylike, \u001b[38;5;28mself\u001b[39m\u001b[38;5;241m.\u001b[39mvariable)\n\u001b[1;32m   4728\u001b[0m )\n\u001b[1;32m   4729\u001b[0m coords, indexes \u001b[38;5;241m=\u001b[39m \u001b[38;5;28mself\u001b[39m\u001b[38;5;241m.\u001b[39mcoords\u001b[38;5;241m.\u001b[39m_merge_raw(other_coords, reflexive)\n\u001b[1;32m   4730\u001b[0m name \u001b[38;5;241m=\u001b[39m \u001b[38;5;28mself\u001b[39m\u001b[38;5;241m.\u001b[39m_result_name(other)\n",
      "File \u001b[0;32m/srv/conda/envs/notebook/lib/python3.11/site-packages/xarray/core/_typed_ops.py:599\u001b[0m, in \u001b[0;36mVariableOpsMixin.__ge__\u001b[0;34m(self, other)\u001b[0m\n\u001b[1;32m    598\u001b[0m \u001b[38;5;28;01mdef\u001b[39;00m \u001b[38;5;21m__ge__\u001b[39m(\u001b[38;5;28mself\u001b[39m, other: VarCompatible) \u001b[38;5;241m-\u001b[39m\u001b[38;5;241m>\u001b[39m Self \u001b[38;5;241m|\u001b[39m T_DataArray:\n\u001b[0;32m--> 599\u001b[0m     \u001b[38;5;28;01mreturn\u001b[39;00m \u001b[38;5;28;43mself\u001b[39;49m\u001b[38;5;241;43m.\u001b[39;49m\u001b[43m_binary_op\u001b[49m\u001b[43m(\u001b[49m\u001b[43mother\u001b[49m\u001b[43m,\u001b[49m\u001b[43m \u001b[49m\u001b[43moperator\u001b[49m\u001b[38;5;241;43m.\u001b[39;49m\u001b[43mge\u001b[49m\u001b[43m)\u001b[49m\n",
      "File \u001b[0;32m/srv/conda/envs/notebook/lib/python3.11/site-packages/xarray/core/variable.py:2317\u001b[0m, in \u001b[0;36mVariable._binary_op\u001b[0;34m(self, other, f, reflexive)\u001b[0m\n\u001b[1;32m   2314\u001b[0m attrs \u001b[38;5;241m=\u001b[39m \u001b[38;5;28mself\u001b[39m\u001b[38;5;241m.\u001b[39m_attrs \u001b[38;5;28;01mif\u001b[39;00m keep_attrs \u001b[38;5;28;01melse\u001b[39;00m \u001b[38;5;28;01mNone\u001b[39;00m\n\u001b[1;32m   2315\u001b[0m \u001b[38;5;28;01mwith\u001b[39;00m np\u001b[38;5;241m.\u001b[39merrstate(\u001b[38;5;28mall\u001b[39m\u001b[38;5;241m=\u001b[39m\u001b[38;5;124m\"\u001b[39m\u001b[38;5;124mignore\u001b[39m\u001b[38;5;124m\"\u001b[39m):\n\u001b[1;32m   2316\u001b[0m     new_data \u001b[38;5;241m=\u001b[39m (\n\u001b[0;32m-> 2317\u001b[0m         f(self_data, other_data) \u001b[38;5;28;01mif\u001b[39;00m \u001b[38;5;129;01mnot\u001b[39;00m reflexive \u001b[38;5;28;01melse\u001b[39;00m f(other_data, self_data)\n\u001b[1;32m   2318\u001b[0m     )\n\u001b[1;32m   2319\u001b[0m result \u001b[38;5;241m=\u001b[39m Variable(dims, new_data, attrs\u001b[38;5;241m=\u001b[39mattrs)\n\u001b[1;32m   2320\u001b[0m \u001b[38;5;28;01mreturn\u001b[39;00m result\n",
      "\u001b[0;31mKeyboardInterrupt\u001b[0m: "
     ]
    }
   ],
   "source": [
    "\n",
    "print(\"Reading and processing data...\")\n",
    "data = []\n",
    "ds = xr.open_dataset(mur_files[0])\n",
    "lat_grid = ds.lat.values\n",
    "lon_grid = ds.lon.values\n",
    "ds.close()\n",
    "\n",
    "# Find the minimum and maximum latitude and longitude values from the kelp dataset\n",
    "min_lat, max_lat = kelp.latitude.min().values, kelp.latitude.max().values\n",
    "min_lon, max_lon = kelp.longitude.min().values, kelp.longitude.max().values\n",
    "\n",
    "# Filter the lat_grid and lon_grid arrays to include only the values within the kelp's latitude and longitude range\n",
    "lat_mask = (lat_grid >= min_lat) & (lat_grid <= max_lat)\n",
    "lon_mask = (lon_grid >= min_lon) & (lon_grid <= max_lon)\n",
    "lat_grid = lat_grid[lat_mask]\n",
    "lon_grid = lon_grid[lon_mask]\n",
    "\n",
    "print(\"Extracting kelp data...\")\n",
    "for i in tqdm(enumerate(lat_grid), total=len(lat_grid)):\n",
    "    lat = i[1]\n",
    "    for j,lon in enumerate(lon_grid):\n",
    "        location_data = process_location(lat, lon, kelp)\n",
    "        if location_data is not None:\n",
    "            data.append(location_data)\n",
    "\n",
    "# loop over temperature files and add to data\n",
    "print(\"Reading SST data...\")\n",
    "for file in tqdm(mur_files):\n",
    "    ds = xr.open_dataset(file)\n",
    "    for i, location in enumerate(data):\n",
    "        lat, lon = location['lat'], location['long']\n",
    "        location['mur_temp'].append(ds.sel(lat=lat, lon=lon).monthly_mean_sst.values)\n",
    "        location['mur_temp_std'].append(ds.sel(lat=lat, lon=lon).monthly_std_sst.values)\n",
    "        location['mur_time'].append(ds.time.values[0])\n",
    "    ds.close()\n",
    "\n",
    "# convert to numpy arrays\n",
    "for location in data:\n",
    "    location['mur_temp'] = np.array(location['mur_temp'])\n",
    "    location['mur_temp_std'] = np.array(location['mur_temp_std'])\n",
    "    location['mur_time'] = np.array(location['mur_time'])\n",
    "\n",
    "# remove second axis on tmp and tmp_std\n",
    "for location in data:\n",
    "    location['mur_temp'] = np.squeeze(location['mur_temp'])\n",
    "    location['mur_temp_std'] = np.squeeze(location['mur_temp_std'])\n",
    "\n",
    "print(\"Interpolating SST data onto kelp time grid...\")\n",
    "data = [interpolate_data(d) for d in tqdm(data)]\n",
    "\n",
    "with open(f'Data/kelp_averaged_data.pkl', 'wb') as f:\n",
    "    dump(data, f)\n"
   ]
  },
  {
   "cell_type": "code",
   "execution_count": null,
   "id": "24362edc-2543-4df5-be72-b4d613b96fe1",
   "metadata": {},
   "outputs": [],
   "source": [
    "len(data)"
   ]
  },
  {
   "cell_type": "code",
   "execution_count": null,
   "id": "060401b1-ecee-4826-9713-eb687ba69b94",
   "metadata": {},
   "outputs": [],
   "source": [
    "data[0]"
   ]
  },
  {
   "cell_type": "markdown",
   "id": "0734bba5-f674-4e97-a3e5-7473a53375f9",
   "metadata": {},
   "source": [
    "Run the script below to clean the data and convert it into usable metrics/features for regression\n",
    "\n",
    "need to re-make this everytime data changes"
   ]
  },
  {
   "cell_type": "code",
   "execution_count": null,
   "id": "44e27b4c-3bca-49a1-a2ef-5c3e47bfe958",
   "metadata": {},
   "outputs": [],
   "source": [
    "!python kelp_metrics.py"
   ]
  }
 ],
 "metadata": {
  "kernelspec": {
   "display_name": "Python 3 (ipykernel)",
   "language": "python",
   "name": "python3"
  },
  "language_info": {
   "codemirror_mode": {
    "name": "ipython",
    "version": 3
   },
   "file_extension": ".py",
   "mimetype": "text/x-python",
   "name": "python",
   "nbconvert_exporter": "python",
   "pygments_lexer": "ipython3",
   "version": "3.11.9"
  }
 },
 "nbformat": 4,
 "nbformat_minor": 5
}
