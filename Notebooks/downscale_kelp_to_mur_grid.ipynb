{
 "cells": [
  {
   "cell_type": "markdown",
   "id": "c88000c6-8793-433e-b4db-d6efe3c372e5",
   "metadata": {},
   "source": [
    "Script to average kelp measurements onto same grid as MUR data"
   ]
  },
  {
   "cell_type": "code",
   "execution_count": null,
   "id": "f3e42c71-10ae-419e-858b-6907dce97abc",
   "metadata": {},
   "outputs": [],
   "source": [
    "import os\n",
    "import glob\n",
    "import numpy as np\n",
    "import xarray as xr\n",
    "from tqdm import tqdm\n",
    "from scipy.interpolate import interp1d\n",
    "from joblib import dump\n",
    "\n",
    "r_earth = 6371.0 # km\n",
    "\n",
    "kelp_file = \"/home/jovyan/efs/data/KelpForest/LandsatKelpBiomass_2022_Q4_withmetadata.nc\"\n",
    "kelp = xr.open_dataset(kelp_file)\n",
    "\n",
    "mur_dir = \"/home/jovyan/efs/data/MUR\"\n",
    "mur_files = glob.glob(os.path.join(mur_dir, \"*MUR*.nc\"))"
   ]
  },
  {
   "cell_type": "code",
   "execution_count": null,
   "id": "715f6fc7",
   "metadata": {},
   "outputs": [],
   "source": [
    "def process_location(lat, lon, kelp):\n",
    "    # average kelp area within 0.01 degrees of the lat/lon\n",
    "\n",
    "    location_data = {\n",
    "        'lat': lat,\n",
    "        'long': lon,\n",
    "        'mur_time': [],\n",
    "        'mur_temp': [],\n",
    "        'mur_temp_std': [],\n",
    "        'kelp_area': [], # m^2 per km^2\n",
    "        'kelp_time': kelp.time.values,\n",
    "    }\n",
    "\n",
    "    mask = (kelp.latitude >= lat - 0.005) & (kelp.latitude < lat + 0.005) & \\\n",
    "           (kelp.longitude >= lon - 0.005) & (kelp.longitude < lon + 0.005)\n",
    "\n",
    "    if not kelp.time.values.size:  # Check if 'kelp_time' is empty\n",
    "        return None\n",
    "\n",
    "    if not np.any(mask) or np.all(np.isnan(kelp.area.values[:, mask])):\n",
    "        return None\n",
    "    \n",
    "    # calculate the area of the grid cell adjust for latitude\n",
    "    scale_factor = r_earth * np.pi / 180.0  * np.abs(np.cos(np.deg2rad(lat))) # km per degree\n",
    "    area = (scale_factor * 0.01 * 1000)**2 # meters squared\n",
    "    location_data['kelp_area'] = np.nansum(kelp.area.values[:, mask],axis=1) # total surface area [m^2]\n",
    "    location_data['kelp_area'] = location_data['kelp_area'] / area * 1000**2 # m^2 per km^2\n",
    "\n",
    "    return location_data"
   ]
  },
  {
   "cell_type": "code",
   "execution_count": null,
   "id": "acb8b679-1e7b-4015-b126-d23db2c3c3c4",
   "metadata": {
    "scrolled": true
   },
   "outputs": [],
   "source": [
    "\n",
    "print(\"Reading and processing data...\")\n",
    "data = []\n",
    "ds = xr.open_dataset(mur_files[0])\n",
    "lat_grid = ds.lat.values\n",
    "lon_grid = ds.lon.values\n",
    "ds.close()\n",
    "\n",
    "# Find the minimum and maximum latitude and longitude values from the kelp dataset\n",
    "min_lat, max_lat = kelp.latitude.min().values, kelp.latitude.max().values\n",
    "min_lon, max_lon = kelp.longitude.min().values, kelp.longitude.max().values\n",
    "\n",
    "# Filter the lat_grid and lon_grid arrays to include only the values within the kelp's latitude and longitude range\n",
    "lat_mask = (lat_grid >= min_lat) & (lat_grid <= max_lat)\n",
    "lon_mask = (lon_grid >= min_lon) & (lon_grid <= max_lon)\n",
    "lat_grid = lat_grid[lat_mask]\n",
    "lon_grid = lon_grid[lon_mask]\n",
    "\n",
    "print(\"Extracting kelp data...\")\n",
    "for i in tqdm(enumerate(lat_grid), total=len(lat_grid)):\n",
    "    lat = i[1]\n",
    "    for j,lon in enumerate(lon_grid):\n",
    "        location_data = process_location(lat, lon, kelp)\n",
    "        if location_data is not None:\n",
    "            data.append(location_data)\n",
    "\n",
    "# loop over temperature files and add to data\n",
    "print(\"Reading SST data...\")\n",
    "for file in tqdm(mur_files):\n",
    "    ds = xr.open_dataset(file)\n",
    "    for i, location in enumerate(data):\n",
    "        lat, lon = location['lat'], location['long']\n",
    "        location['mur_temp'].append(ds.sel(lat=lat, lon=lon).monthly_mean_sst.values)\n",
    "        location['mur_temp_std'].append(ds.sel(lat=lat, lon=lon).monthly_std_sst.values)\n",
    "        location['mur_time'].append(ds.time.values[0])\n",
    "    ds.close()\n",
    "\n",
    "# convert to numpy arrays\n",
    "for location in data:\n",
    "    location['mur_temp'] = np.array(location['mur_temp'])\n",
    "    location['mur_temp_std'] = np.array(location['mur_temp_std'])\n",
    "    location['mur_time'] = np.array(location['mur_time'])\n",
    "\n",
    "# remove second axis on tmp and tmp_std\n",
    "for location in data:\n",
    "    location['mur_temp'] = np.squeeze(location['mur_temp'])\n",
    "    location['mur_temp_std'] = np.squeeze(location['mur_temp_std'])\n",
    "\n",
    "print(\"Interpolating SST data onto kelp time grid...\")\n",
    "data = [interpolate_data(d) for d in tqdm(data)]\n",
    "\n",
    "with open(f'Data/kelp_averaged_data.pkl', 'wb') as f:\n",
    "    dump(data, f)\n"
   ]
  },
  {
   "cell_type": "code",
   "execution_count": null,
   "id": "24362edc-2543-4df5-be72-b4d613b96fe1",
   "metadata": {},
   "outputs": [],
   "source": [
    "len(data)"
   ]
  },
  {
   "cell_type": "code",
   "execution_count": null,
   "id": "060401b1-ecee-4826-9713-eb687ba69b94",
   "metadata": {},
   "outputs": [],
   "source": [
    "data[0]"
   ]
  },
  {
   "cell_type": "markdown",
   "id": "0734bba5-f674-4e97-a3e5-7473a53375f9",
   "metadata": {},
   "source": [
    "Run the script below to clean the data and convert it into usable metrics/features for regression\n",
    "\n",
    "need to re-make this everytime data changes"
   ]
  },
  {
   "cell_type": "code",
   "execution_count": null,
   "id": "44e27b4c-3bca-49a1-a2ef-5c3e47bfe958",
   "metadata": {},
   "outputs": [],
   "source": [
    "!python kelp_metrics.py"
   ]
  }
 ],
 "metadata": {
  "kernelspec": {
   "display_name": "Python 3 (ipykernel)",
   "language": "python",
   "name": "python3"
  },
  "language_info": {
   "codemirror_mode": {
    "name": "ipython",
    "version": 3
   },
   "file_extension": ".py",
   "mimetype": "text/x-python",
   "name": "python",
   "nbconvert_exporter": "python",
   "pygments_lexer": "ipython3",
   "version": "3.11.9"
  }
 },
 "nbformat": 4,
 "nbformat_minor": 5
}
