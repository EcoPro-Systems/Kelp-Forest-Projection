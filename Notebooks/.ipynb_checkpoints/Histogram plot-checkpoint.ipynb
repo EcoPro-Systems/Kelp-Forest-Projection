{
 "cells": [
  {
   "cell_type": "code",
   "execution_count": 4,
   "id": "60658c51",
   "metadata": {},
   "outputs": [
    {
     "ename": "ImportError",
     "evalue": "attempted relative import with no known parent package",
     "output_type": "error",
     "traceback": [
      "\u001b[0;31m---------------------------------------------------------------------------\u001b[0m",
      "\u001b[0;31mImportError\u001b[0m                               Traceback (most recent call last)",
      "Cell \u001b[0;32mIn[4], line 1\u001b[0m\n\u001b[0;32m----> 1\u001b[0m \u001b[38;5;28;01mfrom\u001b[39;00m \u001b[38;5;21;01m.\u001b[39;00m\u001b[38;5;21;01m.\u001b[39;00m\u001b[38;5;21;01mplot_histogram_kelp\u001b[39;00m \u001b[38;5;28;01mimport\u001b[39;00m histogram_kelp\n",
      "\u001b[0;31mImportError\u001b[0m: attempted relative import with no known parent package"
     ]
    }
   ],
   "source": [
    "import sys\n",
    "upper_dir = '../'\n",
    "sys.path.insert(0, upper_dir)"
   ]
  },
  {
   "cell_type": "code",
   "execution_count": null,
   "id": "4463a2fb",
   "metadata": {},
   "outputs": [],
   "source": [
    "# load data from disk\n",
    "with open(args.file_path, 'rb') as f:\n",
    "    data = joblib.load()\n",
    "\n",
    "# plot time series\n",
    "fig, ax, kdata = histogram_kelp(data)\n",
    "plt.savefig(args.file_path.replace('.pkl', '_histogram_kelp.png'))\n",
    "print(f\"Saved histogram to {args.file_path.replace('.pkl', '_histogram_kelp.png')}\")\n",
    "plt.close()\n",
    "\n",
    "# save data to pickle file\n",
    "with open(args.file_path.replace('.pkl', '_histogram_kelp.pkl'), 'wb') as f:\n",
    "    joblib.dump(kdata, f)"
   ]
  }
 ],
 "metadata": {
  "kernelspec": {
   "display_name": "Python 3 (ipykernel)",
   "language": "python",
   "name": "python3"
  },
  "language_info": {
   "codemirror_mode": {
    "name": "ipython",
    "version": 3
   },
   "file_extension": ".py",
   "mimetype": "text/x-python",
   "name": "python",
   "nbconvert_exporter": "python",
   "pygments_lexer": "ipython3",
   "version": "3.11.0"
  }
 },
 "nbformat": 4,
 "nbformat_minor": 5
}
